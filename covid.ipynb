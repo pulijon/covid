{
 "cells": [
  {
   "cell_type": "markdown",
   "metadata": {},
   "source": [
    "# Tratamiento de datos COVID-10\n",
    "## Objeto\n",
    "Se tratarán los datos de la [Johns Hopkins](https://github.com/CSSEGISandData/COVID-19) que se traem al directorio $data_dir. \n",
    "\n",
    "Se utilizarán tablas de población para, en el futuro, obtener información más relevante"
   ]
  },
  {
   "cell_type": "markdown",
   "metadata": {},
   "source": [
    "## Obtención de datos\n",
    "Se obtienen los datos de población desde los repositorios de Naciones Unidas.\n",
    "Los datos de contagios y fallecidos por COVID-19 se traen del repositorio mantenido por la Universidad Johns Hopkins, \n",
    "los de vacunaciones, de Our World In Data, los de medidas, del Centro Europeo para la Prevención y el Control de Enfermedades \n",
    "(una agencia de la UE),"
   ]
  },
  {
   "cell_type": "code",
   "execution_count": 430,
   "metadata": {},
   "outputs": [],
   "source": [
    "data_dir = './data'\n",
    "jhopkins_dir = 'COVID-19'\n",
    "timeseries_dir = 'csse_covid_19_data/csse_covid_19_time_series'\n",
    "covid_git_url = 'https://github.com/CSSEGISandData/COVID-19'\n",
    "population_file = 'WPP2019_PopulationByAgeSex_Medium.csv'\n",
    "covid_confirmed_file = 'time_series_covid19_confirmed_global.csv'\n",
    "covid_deaths_file = 'time_series_covid19_deaths_global.csv'\n",
    "un_pop_repo_url = 'https://population.un.org/wpp/Download/Files/1_Indicators%20(Standard)/CSV_FILES/' + population_file\n",
    "covid_owid_dir = 'covid-19-data'\n",
    "covid_owid_url = 'https://github.com/owid/covid-19-data.git'\n",
    "covid_owid_vaccinations_file = 'public/data/vaccinations/vaccinations.csv'\n",
    "measures_file = 'measures.csv'\n",
    "\n",
    "! if [ ! -d '{data_dir}' ]; then echo 'No existe directorio de datos. Creándolo...'; mkdir '{data_dir}' ; fi\n",
    "! if [ ! -d '{data_dir}/{jhopkins_dir}/{timeseries_dir}' ]; then echo No existe clone del repositorio '{jhopkins_dir}/{timeseries_dir}' Ejecutando git clone '{covid_git_url}'; cd '{data_dir}';  git clone '{covid_git_url}'; fi\n",
    "! if [ ! -d \"{data_dir}/{covid_owid_dir}\" ]; then echo 'No existe clone del repositorio {covid_owid_dir}. Ejecutando git clone {covid_owid_url}'; cd '{data_dir}';  git clone '{covid_owid_url}'; fi\n",
    "! if [ ! -f '{data_dir}/{population_file}' ]; then echo 'No existen datos de población Trayéndolos de {un_pop_repo_url}'; cd '{data_dir}'; curl -g '{un_pop_repo_url}' -o $population_file; fi"
   ]
  },
  {
   "cell_type": "markdown",
   "metadata": {},
   "source": [
    "### Datos de población"
   ]
  },
  {
   "cell_type": "code",
   "execution_count": 431,
   "metadata": {},
   "outputs": [
    {
     "name": "stdout",
     "output_type": "stream",
     "text": [
      "-rw-r--r-- 1 10001 10001 118543941 Feb  7 05:26 ./data/WPP2019_PopulationByAgeSex_Medium.csv\n"
     ]
    }
   ],
   "source": [
    "! ls -l '{data_dir}/{population_file}'"
   ]
  },
  {
   "cell_type": "markdown",
   "metadata": {},
   "source": [
    "### Datos de la Johns Hopkins"
   ]
  },
  {
   "cell_type": "code",
   "execution_count": 432,
   "metadata": {},
   "outputs": [
    {
     "name": "stdout",
     "output_type": "stream",
     "text": [
      "Already up to date.\n",
      "total 17172\n",
      "-rw-r--r-- 1 10001 10001 2531245 Aug  7 06:23 Errata.csv\n",
      "-rw-r--r-- 1 10001 10001    2155 Jul 28 17:35 README.md\n",
      "-rw-r--r-- 1 10001 10001  763022 Aug  8 08:47 time_series_covid19_confirmed_global.csv\n",
      "-rw-r--r-- 1 10001 10001 7735195 Aug  8 06:44 time_series_covid19_confirmed_US.csv\n",
      "-rw-r--r-- 1 10001 10001  529683 Aug  8 08:47 time_series_covid19_deaths_global.csv\n",
      "-rw-r--r-- 1 10001 10001 5321011 Aug  8 06:44 time_series_covid19_deaths_US.csv\n",
      "-rw-r--r-- 1 10001 10001  687278 Aug  8 06:44 time_series_covid19_recovered_global.csv\n"
     ]
    }
   ],
   "source": [
    "! cd '{data_dir}/{jhopkins_dir}' ; git pull\n",
    "# ! cd '{data_dir}/{jhopkins_dir}' ; git checkout origin/master -- '{timeseries_dir}'\n",
    "! ls -l '{data_dir}/{jhopkins_dir}/{timeseries_dir}/' "
   ]
  },
  {
   "cell_type": "markdown",
   "metadata": {},
   "source": [
    "### Datos de Our World In Data "
   ]
  },
  {
   "cell_type": "code",
   "execution_count": null,
   "metadata": {},
   "outputs": [
    {
     "name": "stdout",
     "output_type": "stream",
     "text": [
      "Already up to date.\n"
     ]
    }
   ],
   "source": [
    "! cd '{data_dir}/{covid_owid_dir}'; git pull\n",
    "! ls -l '{data_dir}/{covid_owid_dir}/{covid_owid_vaccinations_file}'"
   ]
  },
  {
   "cell_type": "markdown",
   "metadata": {},
   "source": [
    "### Datos de medidas tomadas"
   ]
  },
  {
   "cell_type": "code",
   "execution_count": null,
   "metadata": {},
   "outputs": [],
   "source": [
    "! curl 'https://www.ecdc.europa.eu/sites/default/files/documents/response_graphs_data_2021-01-28.csv' >> $data_dir/$measures_file\n",
    "! ls -l $data_dir/$measures_file"
   ]
  },
  {
   "cell_type": "markdown",
   "metadata": {},
   "source": [
    "### Importación de datos\n",
    "Lo primero es común a todos los programas que traten datos"
   ]
  },
  {
   "cell_type": "code",
   "execution_count": null,
   "metadata": {},
   "outputs": [],
   "source": [
    "%matplotlib inline\n",
    "import pandas as pd\n",
    "import numpy as np"
   ]
  },
  {
   "cell_type": "markdown",
   "metadata": {},
   "source": [
    "Se utiliza Pandas para leer el fichero csv. Las columnas que notienen datos (las 4 primeras), se ponen de índice. \n",
    "\n",
    "Se van a leer los datos de fallecimientos, casos confirmados, población y vacunaciones.\n",
    "\n",
    "Los datos de medidas, hasta que no se optimice el procedimiento, se obtienen después"
   ]
  },
  {
   "cell_type": "code",
   "execution_count": null,
   "metadata": {},
   "outputs": [],
   "source": [
    "deaths = pd.read_csv(data_dir + '/' + jhopkins_dir + '/' +  timeseries_dir + '/' + covid_deaths_file, \n",
    "                      index_col=[0,1,2,3])\n",
    "confirmed = pd.read_csv(data_dir + '/' + jhopkins_dir + '/' +  timeseries_dir + '/' + covid_confirmed_file, \n",
    "                           index_col=[0,1,2,3])\n",
    "population = pd.read_csv (data_dir + '/' + population_file)\n",
    "vaccinations = pd.read_csv (data_dir + '/' + covid_owid_dir + '/' + covid_owid_vaccinations_file, \n",
    "                            usecols=['location', 'date',\n",
    "                                     'people_vaccinated_per_hundred',\n",
    "                                     'people_fully_vaccinated_per_hundred'], \n",
    "                            parse_dates=['date'])\n",
    "deaths.head(3)"
   ]
  },
  {
   "cell_type": "markdown",
   "metadata": {},
   "source": [
    "## Tratamiento de datos\n",
    "Se filtran los datos de población para suprimir la división por edades y quedarnos con los del año 2021. \n",
    "Se conserva la división por género por si tuviese interés"
   ]
  },
  {
   "cell_type": "code",
   "execution_count": null,
   "metadata": {},
   "outputs": [],
   "source": [
    "pop_filtered = population[(population['VarID'] == 2) & (population['Time'] == 2021) ] \\\n",
    "                         [['Location','PopMale','PopFemale','PopTotal']] \\\n",
    "                         .groupby(['Location']).sum()\n",
    "\n",
    "#population.head()\n",
    "#pop_filtered.index.names\n",
    "\n",
    "pop_filtered.loc['South Africa']\n",
    "#pop_filtered.head(3)"
   ]
  },
  {
   "cell_type": "markdown",
   "metadata": {},
   "source": [
    "Se cambia el nombre de algunos índices. Se ha visto que el nombre de los países es distinto en las tablas de la \n",
    "ONU que en las tablas COVID. Por ejemplo, los **Estados Unidos de América** aparecen en las tablas de la ONU\n",
    "como **United States of America**, mientras que en las tablas COVID como **US**. El diccionario **change_dict**\n",
    "está pensado para todos estos casos."
   ]
  },
  {
   "cell_type": "code",
   "execution_count": null,
   "metadata": {},
   "outputs": [],
   "source": [
    "change_pop_dict = {\n",
    "    'United States of America': 'US',\n",
    "    'Venezuela (Bolivarian Republic of)': 'Venezuela',\n",
    "    'Bolivia (Plurinational State of)': 'Bolivia',\n",
    "    'Russian Federation': 'Russia',\n",
    "    'China, Taiwan Province of China': 'Taiwan*'\n",
    "              }\n",
    "\n",
    "pop_index_list = pop_filtered.index.tolist()\n",
    "\n",
    "for country in change_pop_dict:\n",
    "    pop_index_list[pop_index_list.index(country)] = change_pop_dict[country]\n",
    "\n",
    "pop_filtered.index = pop_index_list"
   ]
  },
  {
   "cell_type": "code",
   "execution_count": null,
   "metadata": {},
   "outputs": [],
   "source": [
    "pop_filtered.loc[['US',\n",
    "                  'Spain',\n",
    "                  'Portugal',\n",
    "                  'Morocco',\n",
    "                  'United Kingdom',\n",
    "                  'Ireland',\n",
    "                  'Italy',\n",
    "                  'Germany',\n",
    "                  'France',\n",
    "                  'Argentina',\n",
    "                  'Chile',\n",
    "                  'Mexico',\n",
    "                  'Peru',\n",
    "                  'Colombia', \n",
    "                  'Venezuela', \n",
    "                  'Cuba', \n",
    "                  'Bolivia', \n",
    "                  'Ecuador', \n",
    "                  'Guatemala', \n",
    "                  'Panama', \n",
    "                  'Costa Rica',\n",
    "                  'Russia',\n",
    "                  'China',\n",
    "                  'Taiwan*',\n",
    "                  'Belgium',\n",
    "                  'Netherlands',\n",
    "                  'Australia',\n",
    "                  'Israel',\n",
    "                  'India',\n",
    "                  'South Africa',\n",
    "                  'Japan',\n",
    "                 ]].sort_values('PopTotal', ascending=False)"
   ]
  },
  {
   "cell_type": "markdown",
   "metadata": {},
   "source": [
    "Se obtienen los dataframes de incrementos por población"
   ]
  },
  {
   "cell_type": "code",
   "execution_count": null,
   "metadata": {},
   "outputs": [],
   "source": [
    "deaths_sum = deaths.groupby(level=1).sum()\n",
    "confirmed_sum = confirmed.groupby(level=1).sum()\n",
    "\n",
    "\n",
    "def get_by_pop_inc_df (df,pop):\n",
    "    df_by_pop_inc = df.divide(pop_filtered['PopTotal']/(pop/1000), axis=0).transpose().diff()\n",
    "    df_by_pop_inc.index = pd.to_datetime(df_by_pop_inc.index)\n",
    "    return df_by_pop_inc\n",
    "    \n",
    "confirmed_factor = 100000\n",
    "deaths_factor = 10000000\n",
    "confirmed_sum_by_pop_inc = get_by_pop_inc_df(confirmed_sum,confirmed_factor)\n",
    "deaths_sum_by_pop_inc = get_by_pop_inc_df(deaths_sum,deaths_factor)\n",
    "\n",
    "\n",
    "#confirmed_sum_by_pop_inc.head(3)\n",
    "#confirmed_100K = confirmed_sum.loc['Spain'].diff() / (pop_filtered.loc['Spain']['PopTotal'] /100)\n",
    "#confirmed_100K.rolling(min_periods=1, window=7).sum().tail(35)\n",
    "\n"
   ]
  },
  {
   "cell_type": "markdown",
   "metadata": {},
   "source": [
    "## Gráficos\n",
    "\n",
    "Se obtienen gráficos para fallecimientos y casos confirmados utilizando ventanas deslizantes de\n",
    "longitud variable (**confirmed_window** y **deaths_window**) para casos confirmados y fallecimientos.\n",
    "Se ha comprobadoque los datos presentan fuerte correlación con el día de la semana. Por elllo,\n",
    "Cualquier longitud de ventana que no sea múltiplo de 7 causa dientes de sierra.\n",
    "\n",
    "Los países para los cuales se desean los gráficos están en el array **interesting_countries**.\n",
    "\n",
    "El último dato es el de la fecha en la que se ejecuta el notebook (**todate = today**). El primero de \n",
    "los datos es el de hace **nweeks** (configurable) semanas.\n",
    "\n",
    "La escala en y puede ser logarítimca (**logaritmic = True**) o no (**logaritmic = False**).\n",
    "\n",
    "El tamaño del gráfico se configura con **fsize**. Se trata de una dupla en el que el primer\n",
    "componente es el tamaño del eje x y el segundo el del eje y.\n"
   ]
  },
  {
   "cell_type": "code",
   "execution_count": null,
   "metadata": {},
   "outputs": [],
   "source": [
    "import datetime as dt\n",
    "\n",
    "nweeks=10\n",
    "interesting_countries = [\n",
    "                         'Spain',\n",
    "                         'United Kingdom', \n",
    "                         #'Denmark',\n",
    "                         #'Ireland', \n",
    "                         'Portugal',  \n",
    "                         #'Israel',\n",
    "                         'France',\n",
    "                         'Germany',\n",
    "                         'Italy',\n",
    "                         #'Netherlands',\n",
    "                         'Belgium',\n",
    "                         #'Sweden',\n",
    "                         #'US',\n",
    "                         #'Chile',\n",
    "                         #'Argentina',\n",
    "                         #'Venezuela',\n",
    "                         #'Japan',\n",
    "                         #'Canada',\n",
    "                         #'Australia',\n",
    "                         #'Mexico',\n",
    "                         #'Colombia',\n",
    "                         #'Peru',\n",
    "                         'Morocco',\n",
    "                         #'India',\n",
    "                         #'Russia',\n",
    "                         #'South Africa',\n",
    "                        ]\n",
    "\n",
    "today = dt.date.today()\n",
    "#yesterday = today - dt.timedelta(days=1)\n",
    "fsize=(20,10)\n",
    "logaritmic = False\n",
    "confirmed_window = 14\n",
    "deaths_window = 14\n",
    "# fromdate=today - dt.timedelta(weeks=nweeks, days=max(confirmed_window, deaths_window))\n",
    "fromdate=today - dt.timedelta(weeks=nweeks)\n",
    "\n",
    "todate=today\n",
    "#fsize=(10,5)\n",
    "#fromdate = dt.datetime(2020,3,13)\n",
    "#todate = dt.datetime(2020,4,3)\n",
    "logaritmic= False\n",
    "\n",
    "\n",
    "fromdate_df = fromdate - dt.timedelta(days=max(confirmed_window, deaths_window))\n",
    "\n",
    "# deaths_sum_df = deaths_sum\n",
    "# deaths_sum_df.columns = pd.to_datetime(deaths_sum_df.columns)\n",
    "# deaths_sum_df.loc[['Spain','Italy','United Kingdom','Germany','Portugal']]\n"
   ]
  },
  {
   "cell_type": "markdown",
   "metadata": {},
   "source": [
    "Los primeros gráficos son comparativos entre países. Permiten ver la evolución de la enfermedad\n",
    "en distintos entornos"
   ]
  },
  {
   "cell_type": "code",
   "execution_count": null,
   "metadata": {},
   "outputs": [],
   "source": [
    "cw_df = confirmed_sum_by_pop_inc[fromdate_df:todate].rolling(min_periods=1, window=confirmed_window).sum()[interesting_countries]\n",
    "cw_df[fromdate:todate].plot(\n",
    "                            title='Casos de últimos {} días por {} habitantes'.format(confirmed_window, confirmed_factor), \n",
    "                            figsize=fsize, \n",
    "                            logy=logaritmic,\n",
    "                            grid=True\n",
    "                           )\n",
    "\n",
    "cw2_df = confirmed_sum_by_pop_inc[fromdate_df:todate].rolling(min_periods=1, window=int(confirmed_window/2)).sum()[interesting_countries]\n",
    "cw2_df[fromdate:todate].plot(\n",
    "                             title='Casos de últimos {} días por {} habitantes'.format(confirmed_window/2, confirmed_factor), \n",
    "                             figsize=fsize, \n",
    "                             logy=logaritmic,\n",
    "                             grid=True\n",
    "                            )\n",
    "dw_df = deaths_sum_by_pop_inc[fromdate_df:todate].rolling(min_periods=1, window=deaths_window).sum()[interesting_countries]\n",
    "dw_df[fromdate:todate].plot(\n",
    "                            title='Fallecimientos en últimos {} días por {} habitantes'.format(deaths_window, deaths_factor), \n",
    "                            figsize=fsize, \n",
    "                            logy=logaritmic,\n",
    "                            grid=True\n",
    "                           )\n",
    "dw2_df = deaths_sum_by_pop_inc[fromdate_df:todate].rolling(min_periods=1, window=int(deaths_window/2)).sum()[interesting_countries]\n",
    "dw2_df[fromdate:todate].plot(\n",
    "                             title='Fallecimientos en últimos {} días por {} de habitantes'.format(deaths_window/2, deaths_factor), \n",
    "                             figsize=fsize, \n",
    "                             logy=logaritmic,\n",
    "                             grid=True\n",
    "                            )"
   ]
  },
  {
   "cell_type": "markdown",
   "metadata": {},
   "source": [
    "Curvas de vacunación"
   ]
  },
  {
   "cell_type": "code",
   "execution_count": null,
   "metadata": {},
   "outputs": [],
   "source": [
    "vac_grouped = vaccinations.groupby('location')\n",
    "\n",
    "suffixes = {\n",
    "    'people_vaccinated_per_hundred': ' people',\n",
    "    'people_fully_vaccinated_per_hundred': ' fully'\n",
    "}\n",
    "\n",
    "# Utilizamos los nombres de países de la Johns Hopkins.\n",
    "# Creamos, para ello, un diccionario que traduce el nombre del país en los datos\n",
    "# de vacunaciones al nombre en los datos de la Johns Hopkins\n",
    "\n",
    "change_vac_countries = {\n",
    "    'US': 'United States'\n",
    "}\n",
    "\n",
    "change_vac_dict = {}\n",
    "for k in change_vac_countries.keys():\n",
    "    for suffix in suffixes.values():\n",
    "        change_vac_dict[k + suffix] = change_vac_countries[k] + suffix\n",
    "\n",
    "# Creamos un nuevo dataframe iterando sobre todos los países en grouped,\n",
    "# añadiendo, para cada país, tantas columnas como líneas hay en el diccionario\n",
    "# suffixes utilizando, en lugar del nombre de la clave, el del país seguido por\n",
    "# el sufijo correspondiente.\n",
    "\n",
    "vc_df = pd.DataFrame()\n",
    "        \n",
    "\n",
    "interesting_vac_renamed_countries = []\n",
    "for country in interesting_countries:\n",
    "    if country in change_vac_countries.keys():\n",
    "        vcname = change_vac_countries[country]\n",
    "    else:\n",
    "        vcname = country\n",
    " \n",
    "    if vcname in vac_grouped.groups:\n",
    "        interesting_vac_renamed_countries.append((country,vcname))\n",
    "\n",
    "        vacgr_df = vac_grouped.get_group(vcname).set_index('date')\n",
    "\n",
    "        for item in suffixes.keys():\n",
    "            vc_df[country + suffixes[item]] = vacgr_df[item]\n",
    "        \n",
    "\n",
    "vc_df.fillna(method='ffill',inplace=True)\n",
    "\n",
    "#vc_df.fillna(0.0, inplace=True)\n",
    "\n",
    "#vc_df [['Spain people', 'Spain fully']]\n",
    "\n",
    "vc_labels = []\n",
    "for i in interesting_vac_renamed_countries:\n",
    "    for suffix in suffixes.values():\n",
    "        vc_labels.append(i[0] + suffix)\n",
    "\n",
    "vc_df_toplot = vc_df[vc_labels]\n",
    "    \n",
    "vc_df_toplot[fromdate:todate].plot(\n",
    "                      title='Vacunaciones (%)', \n",
    "                      figsize=fsize, \n",
    "                      logy=False,\n",
    "                      grid=True\n",
    "                     )"
   ]
  },
  {
   "cell_type": "markdown",
   "metadata": {},
   "source": [
    "Los siguientes gráficos muestran los casos confirmados y fallecimientos por cada país.\n",
    "\n",
    "Los casos confirmados en las ventanas pequeñas son predictores de los casos confirmados en\n",
    "ventanas más grandes y ambos son predictores del número de fallecimientos"
   ]
  },
  {
   "cell_type": "code",
   "execution_count": null,
   "metadata": {},
   "outputs": [],
   "source": [
    "for ic in interesting_countries:\n",
    "    country_df = pd.DataFrame()\n",
    "    country_df['Casos confirmados en {} en los últimos {} días'.format(ic,str(confirmed_window))] = cw_df[ic]\n",
    "    country_df['Casos confirmados en {} en los últimos {} días'.format(ic,str(int(confirmed_window/2)))] = cw2_df[ic]\n",
    "    country_df['Fallecimientos en {} en los últimos {} días'.format(ic,str(confirmed_window))] = dw_df[ic]\n",
    "    country_df['Fallecimientos en {} en los últimos {} días'.format(ic,str(int(confirmed_window/2)))] = dw2_df[ic]\n",
    "    if ic + suffixes['people_fully_vaccinated_per_hundred'] in vc_df:\n",
    "        country_df['Vacunados completamente por mil habitantes']= vc_df[ ic + suffixes['people_fully_vaccinated_per_hundred']]*10\n",
    "    if ic + suffixes['people_vaccinated_per_hundred'] in vc_df:\n",
    "        country_df['Vacunados por mil habitantes']= vc_df[ic + suffixes['people_vaccinated_per_hundred']]*10\n",
    "\n",
    "    country_df[fromdate:todate].plot(\n",
    "                   title='Casos (por {} habitantes), fallecimientos (por {} habitantes) y vacunaciones (por 1000 habitantes) para {}'.format(confirmed_factor, deaths_factor, ic), \n",
    "                                               figsize=fsize, \n",
    "                                               logy=False,\n",
    "                                               grid=True\n",
    "                                              )\n",
    "\n"
   ]
  },
  {
   "cell_type": "code",
   "execution_count": null,
   "metadata": {},
   "outputs": [],
   "source": [
    "# first_date = dt.date(2020,3,1)\n",
    "# drange = pd.date_range(first_date,today)\n",
    "\n",
    "# msr_pd = pd.read_csv(data_dir + '/' + measures_file)\n",
    "# msr_pd = msr_pd[msr_pd['Country'] != 'Country']\n",
    "# msr_pd = msr_pd.fillna(today.strftime('%Y-%m-%d'))\n",
    "\n",
    "# msr_pd[['date_start', 'date_end']] = msr_pd[['date_start', 'date_end']].apply(pd.to_datetime)\n",
    "# msr_pd['Response_measure'] = msr_pd['Response_measure'].astype('category')\n",
    "\n",
    "# msr_countries = msr_pd['Country'].unique()\n",
    "# responses = msr_pd['Response_measure'].unique()\n",
    "\n",
    "# def is_between (d,first,last):\n",
    "#     return (d>=first) and (d <= last) \n",
    "        \n",
    "\n",
    "# msr_pc_pd = {}\n",
    "# # msr_prov = msr_pd[msr_pd['Country'] == 'Spain']\n",
    "# # msr_pc_pd['Spain'] = pd.DataFrame(index=drange, columns=responses).fillna(0)\n",
    "# for country in interesting_countries:\n",
    "#     if country in msr_countries:\n",
    "#         msr_prov = msr_pd[msr_pd['Country'] == country]\n",
    "#         msr_pc_pd[country] = pd.DataFrame(index=drange, columns=responses).fillna(0)\n",
    "#         for _,row in msr_prov.iterrows():\n",
    "#             for ix,_ in msr_pc_pd[country].iterrows():\n",
    "#                 if is_between(ix,row['date_start'],row['date_end']):\n",
    "#                     msr_pc_pd[country].loc[ix][row['Response_measure']] = 1"
   ]
  },
  {
   "cell_type": "code",
   "execution_count": null,
   "metadata": {},
   "outputs": [],
   "source": [
    "# msr_plot_df = pd.DataFrame()\n",
    "# for country in interesting_countries:\n",
    "#     if country in msr_countries:\n",
    "#         msr_plot_df[country] = msr_pc_pd[country].sum(axis='columns')\n",
    "\n",
    "# msr_plot_df[fromdate:todate].plot(\n",
    "#     title='Número de medidas tomadas',\n",
    "#     figsize=fsize\n",
    "# )"
   ]
  },
  {
   "cell_type": "code",
   "execution_count": null,
   "metadata": {},
   "outputs": [],
   "source": []
  }
 ],
 "metadata": {
  "kernelspec": {
   "display_name": "Python 3",
   "language": "python",
   "name": "python3"
  },
  "language_info": {
   "codemirror_mode": {
    "name": "ipython",
    "version": 3
   },
   "file_extension": ".py",
   "mimetype": "text/x-python",
   "name": "python",
   "nbconvert_exporter": "python",
   "pygments_lexer": "ipython3",
   "version": "3.8.6"
  }
 },
 "nbformat": 4,
 "nbformat_minor": 4
}
